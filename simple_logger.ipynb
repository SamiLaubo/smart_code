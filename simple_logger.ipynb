{
 "cells": [
  {
   "cell_type": "code",
   "execution_count": 7,
   "metadata": {},
   "outputs": [],
   "source": [
    "############################### Start Logger ###############################\n",
    "LOGGING = True\n",
    "############################### Instructions ###############################\n",
    "## Include @Log before every function to be logged:\n",
    "##      @Log\n",
    "##      def func():\n",
    "##          pass\n",
    "##\n",
    "## Include at end of script: if LOGGING: Global_logger.view()\n",
    "############################################################################\n",
    "# Velge hvilke funksjoner som blir logget\n",
    "from functools import wraps\n",
    "import time\n",
    "\n",
    "class Log_class:\n",
    "    def __init__(self):\n",
    "        self.log_obj = {}\n",
    "\n",
    "    def log(self, func_name, t):\n",
    "        if func_name in self.log_obj:\n",
    "            self.log_obj[func_name]['time'] += t\n",
    "            self.log_obj[func_name]['calls'] += 1\n",
    "        else:\n",
    "            self.log_obj[func_name] = {\n",
    "                'time': t,\n",
    "                'calls': 1\n",
    "            }\n",
    "\n",
    "    def view(self):\n",
    "        max_name = max(max([len(k) for k in self.log_obj]) + 1, 13)\n",
    "        #max_time = max(max([len(str(k)) for n, k in self.log_obj.items()]) + 3, 10)\n",
    "        max_time = 13\n",
    "        \n",
    "        max_calls = 15\n",
    "\n",
    "        print('\\n{:#<{l}} START LOG {:#<{l}}\\n'.format(\n",
    "            '', '', l = round((max_name + max_time * 2 + max_calls + 5)/2) - 5\n",
    "        ))\n",
    "        print('{:<{width}}'.format('FUNCTION NAME', width = max_name), end='|')\n",
    "        print('{:^{width}}'.format('TOTAL TIME', width = max_time), end='|')\n",
    "        print('{:^{width}}'.format('MEAN TIME', width = max_time), end='|')\n",
    "        print('{:^{width}}'.format('  TOTAL CALLS', width = max_calls), end=' |\\n')\n",
    "        print('{:-<{w1}}|{:-<{w2}}|{:-<{w2}}|{:-<{w3}}-|'.format(\n",
    "            '','','','',\n",
    "            w1 = max_name, w2 = max_time, w3 = max_calls\n",
    "        ))\n",
    "\n",
    "        for func_name, data in self.log_obj.items():\n",
    "            print('{:<{width}}'.format(func_name, width = max_name), end='|')\n",
    "            print('{:^{width}.9f}'.format(data['time'], width = max_time), end='|')\n",
    "            print('{:^{width}.9f}'.format(data['time'] / data['calls'], width = max_time), end='|')\n",
    "            print('{:>{width}}'.format(data['calls'], width = max_calls), end=' |\\n')\n",
    "\n",
    "        print('\\n{:#<{l}} END LOG {:#<{l}}\\n'.format(\n",
    "            '', '', l = round((max_name + max_time * 2 + max_calls + 5)/2) - 4\n",
    "        ))\n",
    "\n",
    "def Log(original_func):\n",
    "    if not LOGGING:\n",
    "        return original_func\n",
    "\n",
    "    @wraps(original_func)\n",
    "    def wrapper(*args, **kwargs):\n",
    "        t1 = time.time()\n",
    "        result = original_func(*args, **kwargs)\n",
    "        t2 = time.time() - t1\n",
    "\n",
    "        Global_logger.log(original_func.__name__, t2)\n",
    "        return result\n",
    "\n",
    "    return wrapper\n",
    "\n",
    "if LOGGING:\n",
    "    Global_logger = Log_class()\n",
    "###############################  End Logger  ###############################"
   ]
  },
  {
   "cell_type": "code",
   "execution_count": 11,
   "metadata": {},
   "outputs": [
    {
     "name": "stdout",
     "output_type": "stream",
     "text": [
      "Simple logger\n",
      "\n",
      "@Log\n",
      "def func():\n",
      "\n",
      "End of script: if LOGGING: Global_logger.view()\n"
     ]
    }
   ],
   "source": [
    "print('Simple logger\\n')\n",
    "print('@Log\\ndef func():\\n')\n",
    "print('End of script: if LOGGING: Global_logger.view()')"
   ]
  }
 ],
 "metadata": {
  "kernelspec": {
   "display_name": "Python 3",
   "language": "python",
   "name": "python3"
  },
  "language_info": {
   "codemirror_mode": {
    "name": "ipython",
    "version": 3
   },
   "file_extension": ".py",
   "mimetype": "text/x-python",
   "name": "python",
   "nbconvert_exporter": "python",
   "pygments_lexer": "ipython3",
   "version": "3.7.6"
  }
 },
 "nbformat": 4,
 "nbformat_minor": 4
}

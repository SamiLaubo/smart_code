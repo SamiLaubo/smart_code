{
 "cells": [
  {
   "cell_type": "code",
   "execution_count": 4,
   "metadata": {},
   "outputs": [
    {
     "name": "stdout",
     "output_type": "stream",
     "text": [
      "htl(str)\n",
      "Ex: htl('## 4. Task 2')\n"
     ]
    }
   ],
   "source": [
    "%run header_to_link.ipynb"
   ]
  },
  {
   "cell_type": "code",
   "execution_count": 2,
   "metadata": {},
   "outputs": [
    {
     "name": "stdout",
     "output_type": "stream",
     "text": [
      "[4. Task 2 - $CO_2$ absorption by the deep ocean](#4.-Task-2---$CO_2$-absorption-by-the-deep-ocean)\n"
     ]
    }
   ],
   "source": [
    "htl('## 4. Task 2 - $CO_2$ absorption by the deep ocean')"
   ]
  },
  {
   "cell_type": "markdown",
   "metadata": {},
   "source": [
    "***"
   ]
  },
  {
   "cell_type": "code",
   "execution_count": 27,
   "metadata": {},
   "outputs": [
    {
     "name": "stdout",
     "output_type": "stream",
     "text": [
      "Simple logger\n",
      "@Log\n",
      "def func(): pass\n",
      "End of script: if LOGGING: Global_logger.view()\n"
     ]
    }
   ],
   "source": [
    "%run simple_logger.ipynb"
   ]
  },
  {
   "cell_type": "code",
   "execution_count": 26,
   "metadata": {},
   "outputs": [
    {
     "name": "stdout",
     "output_type": "stream",
     "text": [
      "[0.8132843971252441, 0.21024584770202637, 0.2109847068786621]\n",
      "['l1', 'l2', 'l872345708745057185470187sdhfhgfd2']\n",
      "[2, 2, 34]\n",
      "\n",
      "################################### START LOG ###################################\n",
      "\n",
      "FUNCTION NAME                      | TOTAL TIME  |  MEAN TIME  |   TOTAL CALLS  |\n",
      "-----------------------------------|-------------|-------------|----------------|\n",
      "l1                                 | 0.813284397 | 0.406642199 |              2 |\n",
      "l2                                 | 0.210245848 | 0.105122924 |              2 |\n",
      "l872345708745057185470187sdhfhgfd2 | 0.210984707 | 0.105492353 |              2 |\n",
      "\n",
      "#################################### END LOG ####################################\n",
      "\n"
     ]
    }
   ],
   "source": [
    "import time\n",
    "\n",
    "@Log\n",
    "def l1():\n",
    "    time.sleep(.4)\n",
    "\n",
    "@Log\n",
    "def l872345708745057185470187sdhfhgfd2():\n",
    "    time.sleep(.1)\n",
    "        \n",
    "        \n",
    "l1()\n",
    "l872345708745057185470187sdhfhgfd2()\n",
    "l872345708745057185470187sdhfhgfd2()\n",
    "\n",
    "if LOGGING: Global_logger.view()"
   ]
  }
 ],
 "metadata": {
  "kernelspec": {
   "display_name": "Python 3",
   "language": "python",
   "name": "python3"
  },
  "language_info": {
   "codemirror_mode": {
    "name": "ipython",
    "version": 3
   },
   "file_extension": ".py",
   "mimetype": "text/x-python",
   "name": "python",
   "nbconvert_exporter": "python",
   "pygments_lexer": "ipython3",
   "version": "3.7.6"
  }
 },
 "nbformat": 4,
 "nbformat_minor": 4
}
